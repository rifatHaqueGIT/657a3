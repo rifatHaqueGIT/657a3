{
  "cells": [
    {
      "cell_type": "code",
      "execution_count": 12,
      "id": "169ae96c-4327-4eee-9814-92a47939eb17",
      "metadata": {
        "id": "169ae96c-4327-4eee-9814-92a47939eb17"
      },
      "outputs": [],
      "source": [
        "# Import libraries\n",
        "import numpy as np\n",
        "import matplotlib.pyplot as plt\n",
        "from sklearn.linear_model import LinearRegression\n",
        "from sklearn.linear_model import SGDRegressor\n",
        "from sklearn.metrics import mean_absolute_error, mean_squared_error"
      ]
    },
    {
      "cell_type": "code",
      "execution_count": 13,
      "id": "5503b431-77fc-4619-8260-e38c523bdbc8",
      "metadata": {
        "id": "5503b431-77fc-4619-8260-e38c523bdbc8"
      },
      "outputs": [],
      "source": [
        "# Set random seed for reproducibility\n",
        "np.random.seed(42)"
      ]
    },
    {
      "cell_type": "code",
      "execution_count": 14,
      "id": "00a8cee6-ca39-4301-993d-264914f84eb3",
      "metadata": {
        "id": "00a8cee6-ca39-4301-993d-264914f84eb3"
      },
      "outputs": [],
      "source": [
        "# 1. Generate synthetic data\n",
        "def generate_data(noise_type='gaussian', n_samples=100, sigma = 5):\n",
        "    X = np.random.uniform(-3, 3, size=(n_samples, 1))\n",
        "    true_y = 2 * X.squeeze() + 1\n",
        "\n",
        "\n",
        "    ### BEGIN HERE\n",
        "    if noise_type == 'gaussian':\n",
        "        noise = np.random.normal(X.mean(), X.std(),len(X))\n",
        "    elif noise_type == 'laplacian':\n",
        "        noise = np.random.laplace(size=len(X))\n",
        "    elif noise_type == 'cauchy':\n",
        "        noise = np.random.standard_cauchy(len(X))\n",
        "    ### END HERE:\n",
        "    else:\n",
        "        raise ValueError(\"noise_type must be 'gaussian', 'laplacian' or 'cauchy' \")\n",
        "\n",
        "    y = true_y + noise\n",
        "    return X, y, true_y"
      ]
    },
    {
      "cell_type": "code",
      "execution_count": 15,
      "id": "d99846d4-1a2a-4bb0-925b-3cabe594c6ea",
      "metadata": {
        "id": "d99846d4-1a2a-4bb0-925b-3cabe594c6ea"
      },
      "outputs": [],
      "source": [
        "import numpy as np\n",
        "from scipy.optimize import minimize\n",
        "\n",
        "class CauchyRegressor:\n",
        "    def __init__(self, gamma=1.0, fit_intercept=True):\n",
        "        self.gamma = gamma\n",
        "        self.fit_intercept = fit_intercept\n",
        "        self.coef_ = None\n",
        "        self.intercept_ = None\n",
        "\n",
        "    def _cauchy_loss(self, params, X, y):\n",
        "        if self.fit_intercept:\n",
        "            w = params[:-1]\n",
        "            b = params[-1]\n",
        "        else:\n",
        "            w = params\n",
        "            b = 0\n",
        "\n",
        "        ### BEGIN HERE:\n",
        "        y_pred =  X @ w +b\n",
        "        residual = y - y_pred\n",
        "        loss = np.log(1+(residual/self.gamma)**2)\n",
        "        cost = np.mean(loss)\n",
        "        ### END HERE.\n",
        "\n",
        "        return cost\n",
        "\n",
        "    def fit(self, X, y):\n",
        "        X = np.asarray(X)\n",
        "        y = np.asarray(y)\n",
        "        n_features = X.shape[1]\n",
        "\n",
        "        if self.fit_intercept:\n",
        "            initial_params = np.zeros(n_features + 1)  # weights + bias\n",
        "        else:\n",
        "            initial_params = np.zeros(n_features)\n",
        "\n",
        "        result = minimize(self._cauchy_loss, initial_params, args=(X, y), method='BFGS')\n",
        "\n",
        "        if self.fit_intercept:\n",
        "            self.coef_ = result.x[:-1]\n",
        "            self.intercept_ = result.x[-1]\n",
        "        else:\n",
        "            self.coef_ = result.x\n",
        "            self.intercept_ = 0.0\n",
        "\n",
        "        return self\n",
        "\n",
        "    def predict(self, X):\n",
        "        X = np.asarray(X)\n",
        "        ### Begin HERE:\n",
        "        output = X @ self.coef_ + self.intercept_\n",
        "        ### End HERE\n",
        "\n",
        "        return output\n"
      ]
    },
    {
      "cell_type": "code",
      "execution_count": 16,
      "id": "355d72dc-8f56-4f15-b2b7-918ed9eb1d1a",
      "metadata": {
        "id": "355d72dc-8f56-4f15-b2b7-918ed9eb1d1a"
      },
      "outputs": [],
      "source": [
        "def fit_models(X, y):\n",
        "    # MSE model (ordinary least squares)\n",
        "    mse_model = LinearRegression()\n",
        "    mse_model.fit(X, y)\n",
        "\n",
        "    # MAE model (using SGDRegressor with 'epsilon_insensitive' loss approximation for MAE)\n",
        "    mae_model = SGDRegressor(loss='epsilon_insensitive', epsilon=0.0, max_iter=1000, tol=1e-3)\n",
        "    mae_model.fit(X, y)\n",
        "\n",
        "    return mse_model, mae_model"
      ]
    },
    {
      "cell_type": "code",
      "execution_count": 17,
      "id": "30e103d4-db8a-45a4-ab4a-c3be3b56fcfe",
      "metadata": {
        "id": "30e103d4-db8a-45a4-ab4a-c3be3b56fcfe"
      },
      "outputs": [],
      "source": [
        "def plot_results(X, y, true_y, mse_model, mae_model, cauchy_model,title):\n",
        "    X_plot = np.linspace(-3, 3, 100).reshape(-1, 1)\n",
        "    y_mse_pred = mse_model.predict(X_plot)\n",
        "    y_mae_pred = mae_model.predict(X_plot)\n",
        "    y_cauchy_pred = cauchy_model.predict(X_plot)\n",
        "\n",
        "    plt.figure(figsize=(8,6))\n",
        "    plt.scatter(X, y, color='gray', alpha=0.5, label='Data')\n",
        "    plt.plot(X_plot, 2*X_plot + 1, 'k--', label='True function')\n",
        "\n",
        "    plt.plot(X_plot, y_mse_pred, label='MSE fit', linewidth=2)\n",
        "    plt.plot(X_plot, y_mae_pred, label='MAE fit', linewidth=2)\n",
        "    plt.plot(X_plot, y_cauchy_pred, label='Cauchy fit', linewidth=2)\n",
        "\n",
        "    plt.title(title)\n",
        "    plt.ylim(-20,20)\n",
        "    plt.legend()\n",
        "    plt.grid(True)\n",
        "    plt.show()"
      ]
    },
    {
      "cell_type": "code",
      "execution_count": 18,
      "id": "3add2701-692a-44c0-a432-b69d49aa1513",
      "metadata": {
        "id": "3add2701-692a-44c0-a432-b69d49aa1513",
        "outputId": "a5c08615-7cfa-402c-f15d-a9c45dcfd69c",
        "colab": {
          "base_uri": "https://localhost:8080/",
          "height": 332
        }
      },
      "outputs": [
        {
          "output_type": "error",
          "ename": "TypeError",
          "evalue": "'module' object is not callable",
          "traceback": [
            "\u001b[0;31m---------------------------------------------------------------------------\u001b[0m",
            "\u001b[0;31mTypeError\u001b[0m                                 Traceback (most recent call last)",
            "\u001b[0;32m/tmp/ipython-input-18-2882151290.py\u001b[0m in \u001b[0;36m<cell line: 0>\u001b[0;34m()\u001b[0m\n\u001b[1;32m      1\u001b[0m \u001b[0;32mfor\u001b[0m \u001b[0mnoise_type\u001b[0m \u001b[0;32min\u001b[0m \u001b[0;34m[\u001b[0m\u001b[0;34m'gaussian'\u001b[0m\u001b[0;34m,\u001b[0m \u001b[0;34m'laplacian'\u001b[0m\u001b[0;34m,\u001b[0m \u001b[0;34m'cauchy'\u001b[0m\u001b[0;34m]\u001b[0m\u001b[0;34m:\u001b[0m\u001b[0;34m\u001b[0m\u001b[0;34m\u001b[0m\u001b[0m\n\u001b[0;32m----> 2\u001b[0;31m     \u001b[0mX\u001b[0m\u001b[0;34m,\u001b[0m \u001b[0my\u001b[0m\u001b[0;34m,\u001b[0m \u001b[0mtrue_y\u001b[0m \u001b[0;34m=\u001b[0m \u001b[0mgenerate_data\u001b[0m\u001b[0;34m(\u001b[0m\u001b[0mnoise_type\u001b[0m\u001b[0;34m=\u001b[0m\u001b[0mnoise_type\u001b[0m\u001b[0;34m)\u001b[0m\u001b[0;34m\u001b[0m\u001b[0;34m\u001b[0m\u001b[0m\n\u001b[0m\u001b[1;32m      3\u001b[0m     \u001b[0mmse_model\u001b[0m\u001b[0;34m,\u001b[0m \u001b[0mmae_model\u001b[0m \u001b[0;34m=\u001b[0m \u001b[0mfit_models\u001b[0m\u001b[0;34m(\u001b[0m\u001b[0mX\u001b[0m\u001b[0;34m,\u001b[0m \u001b[0my\u001b[0m\u001b[0;34m)\u001b[0m\u001b[0;34m\u001b[0m\u001b[0;34m\u001b[0m\u001b[0m\n\u001b[1;32m      4\u001b[0m \u001b[0;34m\u001b[0m\u001b[0m\n\u001b[1;32m      5\u001b[0m \u001b[0;34m\u001b[0m\u001b[0m\n",
            "\u001b[0;32m/tmp/ipython-input-14-2067768264.py\u001b[0m in \u001b[0;36mgenerate_data\u001b[0;34m(noise_type, n_samples, sigma)\u001b[0m\n\u001b[1;32m      7\u001b[0m     \u001b[0;31m### BEGIN HERE\u001b[0m\u001b[0;34m\u001b[0m\u001b[0;34m\u001b[0m\u001b[0m\n\u001b[1;32m      8\u001b[0m     \u001b[0;32mif\u001b[0m \u001b[0mnoise_type\u001b[0m \u001b[0;34m==\u001b[0m \u001b[0;34m'gaussian'\u001b[0m\u001b[0;34m:\u001b[0m\u001b[0;34m\u001b[0m\u001b[0;34m\u001b[0m\u001b[0m\n\u001b[0;32m----> 9\u001b[0;31m         \u001b[0mnoise\u001b[0m \u001b[0;34m=\u001b[0m \u001b[0mnp\u001b[0m\u001b[0;34m.\u001b[0m\u001b[0mrandom\u001b[0m\u001b[0;34m(\u001b[0m\u001b[0mX\u001b[0m\u001b[0;34m.\u001b[0m\u001b[0mmean\u001b[0m\u001b[0;34m(\u001b[0m\u001b[0;34m)\u001b[0m\u001b[0;34m,\u001b[0m \u001b[0mX\u001b[0m\u001b[0;34m.\u001b[0m\u001b[0mstd\u001b[0m\u001b[0;34m(\u001b[0m\u001b[0;34m)\u001b[0m\u001b[0;34m,\u001b[0m\u001b[0mlen\u001b[0m\u001b[0;34m(\u001b[0m\u001b[0mX\u001b[0m\u001b[0;34m)\u001b[0m\u001b[0;34m)\u001b[0m\u001b[0;34m\u001b[0m\u001b[0;34m\u001b[0m\u001b[0m\n\u001b[0m\u001b[1;32m     10\u001b[0m     \u001b[0;32melif\u001b[0m \u001b[0mnoise_type\u001b[0m \u001b[0;34m==\u001b[0m \u001b[0;34m'laplacian'\u001b[0m\u001b[0;34m:\u001b[0m\u001b[0;34m\u001b[0m\u001b[0;34m\u001b[0m\u001b[0m\n\u001b[1;32m     11\u001b[0m         \u001b[0mnoise\u001b[0m \u001b[0;34m=\u001b[0m \u001b[0mnp\u001b[0m\u001b[0;34m.\u001b[0m\u001b[0mrandom\u001b[0m\u001b[0;34m.\u001b[0m\u001b[0mlaplace\u001b[0m\u001b[0;34m(\u001b[0m\u001b[0msize\u001b[0m\u001b[0;34m=\u001b[0m\u001b[0mlen\u001b[0m\u001b[0;34m(\u001b[0m\u001b[0mX\u001b[0m\u001b[0;34m)\u001b[0m\u001b[0;34m)\u001b[0m\u001b[0;34m\u001b[0m\u001b[0;34m\u001b[0m\u001b[0m\n",
            "\u001b[0;31mTypeError\u001b[0m: 'module' object is not callable"
          ]
        }
      ],
      "source": [
        "for noise_type in ['gaussian', 'laplacian', 'cauchy']:\n",
        "    X, y, true_y = generate_data(noise_type=noise_type)\n",
        "    mse_model, mae_model = fit_models(X, y)\n",
        "\n",
        "\n",
        "    #Fit the cauchy model:\n",
        "    cauchy_model = CauchyRegressor(gamma=1.0)\n",
        "    cauchy_model.fit(X,y)\n",
        "\n",
        "    # print(f\"\\nResults for {noise_type.capitalize()} Noise:\")\n",
        "    # print(f\"MSE Model Coefficients: slope = {mse_model.coef_[0]:.2f}\", intercept = {mse_model.intercept_:.2f}\")\n",
        "    # print(f\"MAE Model Coefficients: slope = {mae_model.coef_[0]:.2f}\", intercept = {mae_model.intercept_:.2f}\")\n",
        "\n",
        "    plot_results(X, y, true_y, mse_model, mae_model, cauchy_model ,title=f\"Linear Regression with {noise_type.capitalize()} Noise\")"
      ]
    },
    {
      "cell_type": "code",
      "execution_count": null,
      "id": "5fdaf729-e376-406f-a6d4-85ba74177dc8",
      "metadata": {
        "id": "5fdaf729-e376-406f-a6d4-85ba74177dc8"
      },
      "outputs": [],
      "source": []
    }
  ],
  "metadata": {
    "kernelspec": {
      "display_name": "Python 3 (ipykernel)",
      "language": "python",
      "name": "python3"
    },
    "language_info": {
      "codemirror_mode": {
        "name": "ipython",
        "version": 3
      },
      "file_extension": ".py",
      "mimetype": "text/x-python",
      "name": "python",
      "nbconvert_exporter": "python",
      "pygments_lexer": "ipython3",
      "version": "3.13.0"
    },
    "colab": {
      "provenance": []
    }
  },
  "nbformat": 4,
  "nbformat_minor": 5
}